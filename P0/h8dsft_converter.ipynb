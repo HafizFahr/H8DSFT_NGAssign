{
 "cells": [
  {
   "cell_type": "markdown",
   "metadata": {},
   "source": [
    "#### Konverter Suhu\n",
    "Aplikasi sederhana ini menggunakan 2 fungsi untuk mengkonversi suhu:\n",
    "<br> - CKconv() digunakan untuk konversi Celsius ke Kelvin dan sebaliknya.\n",
    "<br> - CFconv() digunakan untuk konversi Celsius ke Fahrenheit dan sebaliknya.\n",
    "\n",
    "Dalam fungsi konversi(), pengguna dapat memilih salah satu dari 6 mode konversi yang dapat dilakukan. Pengguna akan diminta memasukkan mode konversi dan suhu awal yang ingin dikonversi.\n",
    "\n",
    "Dalam kasus Kelvin ke Fahrenheit maupun sebaliknya, kedua fungsi digunakan secara bersamaan untuk mengubah Kelvin <-> Celsius <-> Fahrenheit."
   ]
  },
  {
   "cell_type": "code",
   "execution_count": 1,
   "metadata": {},
   "outputs": [],
   "source": [
    "def CKconv(s,t):\n",
    "    \"Fungsi untuk konversi Celsius-Kelvin\"\n",
    "    return(round((t + 273.15 if (s=='c' or s=='C') else t - 273.15),3))\n",
    "\n",
    "def CFconv(s,t):\n",
    "    \"Fungsi untuk konversi Celsius-Fahrenheit\"\n",
    "    return(round(((t - 32) * 5/9 if (s=='f' or s=='F') else (t * 9/5) + 32),3))\n",
    "\n",
    "def konversi():\n",
    "    \"Fungsi utama untuk konversi suhu. Pengguna memilih mode konversi dan memasukkan temperatur awal.\"\n",
    "    \"Hasil konversi akan dicetak sesuai mode yang dipilih.\"\n",
    "    x = 0\n",
    "    print(\"Konversi Suhu\\n1. C->K | 2. C->F | 3. K->C\\n4. K->F | 5. F->C | 6. F->K\")\n",
    "    while x not in range(1,7): #mengulang input selama diluar pilihan\n",
    "        x = int(input(\"Silahkan Pilih Mode: \"))\n",
    "        print('Ok' if x in range(1,7) else \"Error\")\n",
    "    temp = float(input(\"Silahkan Masukkan Suhu: \"))\n",
    "    if x == 1:\n",
    "        print(\"Suhu dalam Kelvin adalah:\", CKconv('c',temp), \"K\")\n",
    "    elif x == 2:\n",
    "        print(\"Suhu dalam Fahrenheit adalah:\", CFconv(0,temp), \"F\")\n",
    "    elif x == 3:\n",
    "        print(\"Suhu dalam Celsius adalah:\", CKconv(0,temp), \"C\")\n",
    "    elif x == 4:\n",
    "        print(\"Suhu dalam Fahrenheit adalah:\", CFconv(0,CKconv(0,temp)), \"F\")\n",
    "    elif x == 5:\n",
    "        print(\"Suhu dalam Celsius adalah:\", CFconv('f',temp), \"C\")\n",
    "    else:\n",
    "        print(\"Suhu dalam Kelvin adalah:\", CKconv('c',CFconv('f',temp)), \"K\")"
   ]
  },
  {
   "cell_type": "code",
   "execution_count": 2,
   "metadata": {},
   "outputs": [
    {
     "name": "stdout",
     "output_type": "stream",
     "text": [
      "Konversi Suhu\n",
      "1. C->K | 2. C->F | 3. K->C\n",
      "4. K->F | 5. F->C | 6. F->K\n",
      "Silahkan Pilih Mode: 0\n",
      "Error\n",
      "Silahkan Pilih Mode: 7\n",
      "Error\n",
      "Silahkan Pilih Mode: 4\n",
      "Ok\n",
      "Silahkan Masukkan Suhu: 325.324\n",
      "Suhu dalam Fahrenheit adalah: 125.913 F\n"
     ]
    }
   ],
   "source": [
    "konversi()"
   ]
  }
 ],
 "metadata": {
  "interpreter": {
   "hash": "7bd744ac3ad7e5c7123c4c68c157bc146c4cf0697f8893394ae9172751cfbe32"
  },
  "kernelspec": {
   "display_name": "Python 3",
   "language": "python",
   "name": "python3"
  },
  "language_info": {
   "codemirror_mode": {
    "name": "ipython",
    "version": 3
   },
   "file_extension": ".py",
   "mimetype": "text/x-python",
   "name": "python",
   "nbconvert_exporter": "python",
   "pygments_lexer": "ipython3",
   "version": "3.8.5"
  }
 },
 "nbformat": 4,
 "nbformat_minor": 4
}
