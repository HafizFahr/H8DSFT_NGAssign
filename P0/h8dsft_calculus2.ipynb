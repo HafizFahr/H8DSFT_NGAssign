{
 "cells": [
  {
   "cell_type": "markdown",
   "metadata": {},
   "source": [
    "## Integration\n",
    "Find the integration result of:\n",
    " - 3x^2 - 3x +3\n",
    " - 8y^3 - y^2 + 5y - 1"
   ]
  },
  {
   "cell_type": "code",
   "execution_count": 2,
   "metadata": {},
   "outputs": [],
   "source": [
    "import sympy as sy\n",
    "from scipy.integrate import quad as qd"
   ]
  },
  {
   "cell_type": "code",
   "execution_count": 3,
   "metadata": {},
   "outputs": [],
   "source": [
    "x,y = sy.symbols('x y')\n",
    "sy.init_printing()"
   ]
  },
  {
   "cell_type": "code",
   "execution_count": 4,
   "metadata": {},
   "outputs": [
    {
     "data": {
      "image/png": "[encoded data removed]",
      "text/latex": [
       "$\\displaystyle x^{3} - \\frac{3 x^{2}}{2} + 3 x$"
      ],
      "text/plain": [
       "        2      \n",
       " 3   3⋅x       \n",
       "x  - ──── + 3⋅x\n",
       "      2        "
      ]
     },
     "execution_count": 4,
     "metadata": {},
     "output_type": "execute_result"
    }
   ],
   "source": [
    "sy.integrate(3*x**2 - 3*x + 3, x)"
   ]
  },
  {
   "cell_type": "code",
   "execution_count": 5,
   "metadata": {},
   "outputs": [
    {
     "data": {
      "image/png": "[encoded data removed]",
      "text/latex": [
       "$\\displaystyle 2 y^{4} - \\frac{y^{3}}{3} + \\frac{5 y^{2}}{2} - y$"
      ],
      "text/plain": [
       "        3      2    \n",
       "   4   y    5⋅y     \n",
       "2⋅y  - ── + ──── - y\n",
       "       3     2      "
      ]
     },
     "execution_count": 5,
     "metadata": {},
     "output_type": "execute_result"
    }
   ],
   "source": [
    "sy.integrate(8*y**3 - y**2 + 5*y - 1, y)"
   ]
  },
  {
   "cell_type": "markdown",
   "metadata": {},
   "source": [
    "As in derivative, integrate() function in sympy returns the integrated function, but not the calculation result"
   ]
  },
  {
   "cell_type": "code",
   "execution_count": 6,
   "metadata": {},
   "outputs": [
    {
     "data": {
      "image/png": "[encoded data removed]",
      "text/latex": [
       "$\\displaystyle \\left( 5.500000000000001, \\  6.106226635438362e-14\\right)$"
      ],
      "text/plain": [
       "(5.500000000000001, 6.106226635438362e-14)"
      ]
     },
     "execution_count": 6,
     "metadata": {},
     "output_type": "execute_result"
    }
   ],
   "source": [
    "def f(x):\n",
    "    return (3*x**2 - 3*x + 3)\n",
    "\n",
    "qd(f,1,2)"
   ]
  },
  {
   "cell_type": "code",
   "execution_count": 7,
   "metadata": {},
   "outputs": [
    {
     "data": {
      "image/png": "[encoded data removed]",
      "text/latex": [
       "$\\displaystyle \\left( 34.16666666666667, \\  3.7932620008026185e-13\\right)$"
      ],
      "text/plain": [
       "(34.16666666666667, 3.7932620008026185e-13)"
      ]
     },
     "execution_count": 7,
     "metadata": {},
     "output_type": "execute_result"
    }
   ],
   "source": [
    "def g(y):\n",
    "    return (8*y**3 - y**2 + 5*y - 1)\n",
    "\n",
    "qd(g,1,2)"
   ]
  },
  {
   "cell_type": "markdown",
   "metadata": {},
   "source": [
    "in Scipy, we can use several function in integrate package to do an integration of a function. Here we use quad(), the general integration function. As in derivative, scipy returns the result of the calculation of integrated function using points we defined (in this case, 1 and 2). The output of quad() is an array containing the result and the error of calculation."
   ]
  }
 ],
 "metadata": {
  "kernelspec": {
   "display_name": "Python 3",
   "language": "python",
   "name": "python3"
  },
  "language_info": {
   "codemirror_mode": {
    "name": "ipython",
    "version": 3
   },
   "file_extension": ".py",
   "mimetype": "text/x-python",
   "name": "python",
   "nbconvert_exporter": "python",
   "pygments_lexer": "ipython3",
   "version": "3.8.5"
  }
 },
 "nbformat": 4,
 "nbformat_minor": 4
}
