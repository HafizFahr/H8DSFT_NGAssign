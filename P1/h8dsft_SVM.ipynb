{
 "cells": [
  {
   "cell_type": "markdown",
   "id": "92f6030a",
   "metadata": {},
   "source": [
    "# Non-Graded Challenge 2 : SVM\n",
    "Using stroke prediction dataset from [kaggle](https://www.kaggle.com/fedesoriano/stroke-prediction-dataset), clean and preprocess the data and make a prediction model using SVM."
   ]
  },
  {
   "cell_type": "markdown",
   "id": "da179ca7",
   "metadata": {},
   "source": [
    "## Import Library"
   ]
  },
  {
   "cell_type": "code",
   "execution_count": 1,
   "id": "af14affc",
   "metadata": {},
   "outputs": [],
   "source": [
    "import pandas as pd\n",
    "import numpy as np\n",
    "import matplotlib.pyplot as plt\n",
    "import seaborn as sns\n",
    "from sklearn import svm, preprocessing, model_selection, feature_selection, metrics, utils"
   ]
  },
  {
   "cell_type": "markdown",
   "id": "5e9e6492",
   "metadata": {},
   "source": [
    "## Data Loading"
   ]
  },
  {
   "cell_type": "code",
   "execution_count": 2,
   "id": "ddb52ce6",
   "metadata": {},
   "outputs": [],
   "source": [
    "raw = pd.read_csv('stroke_data.csv')"
   ]
  },
  {
   "cell_type": "markdown",
   "id": "67ccd7b9",
   "metadata": {},
   "source": [
    "### Simple data exploration\n",
    "We use head(), info() and describe to see the summary of the data"
   ]
  },
  {
   "cell_type": "code",
   "execution_count": 3,
   "id": "3b499871",
   "metadata": {},
   "outputs": [
    {
     "data": {
      "text/html": [
       "<div>\n",
       "<style scoped>\n",
       "    .dataframe tbody tr th:only-of-type {\n",
       "        vertical-align: middle;\n",
       "    }\n",
       "\n",
       "    .dataframe tbody tr th {\n",
       "        vertical-align: top;\n",
       "    }\n",
       "\n",
       "    .dataframe thead th {\n",
       "        text-align: right;\n",
       "    }\n",
       "</style>\n",
       "<table border=\"1\" class=\"dataframe\">\n",
       "  <thead>\n",
       "    <tr style=\"text-align: right;\">\n",
       "      <th></th>\n",
       "      <th>id</th>\n",
       "      <th>gender</th>\n",
       "      <th>age</th>\n",
       "      <th>hypertension</th>\n",
       "      <th>heart_disease</th>\n",
       "      <th>ever_married</th>\n",
       "      <th>work_type</th>\n",
       "      <th>Residence_type</th>\n",
       "      <th>avg_glucose_level</th>\n",
       "      <th>bmi</th>\n",
       "      <th>smoking_status</th>\n",
       "      <th>stroke</th>\n",
       "    </tr>\n",
       "  </thead>\n",
       "  <tbody>\n",
       "    <tr>\n",
       "      <th>0</th>\n",
       "      <td>9046</td>\n",
       "      <td>Male</td>\n",
       "      <td>67.0</td>\n",
       "      <td>0</td>\n",
       "      <td>1</td>\n",
       "      <td>Yes</td>\n",
       "      <td>Private</td>\n",
       "      <td>Urban</td>\n",
       "      <td>228.69</td>\n",
       "      <td>36.6</td>\n",
       "      <td>formerly smoked</td>\n",
       "      <td>1</td>\n",
       "    </tr>\n",
       "    <tr>\n",
       "      <th>1</th>\n",
       "      <td>51676</td>\n",
       "      <td>Female</td>\n",
       "      <td>61.0</td>\n",
       "      <td>0</td>\n",
       "      <td>0</td>\n",
       "      <td>Yes</td>\n",
       "      <td>Self-employed</td>\n",
       "      <td>Rural</td>\n",
       "      <td>202.21</td>\n",
       "      <td>NaN</td>\n",
       "      <td>never smoked</td>\n",
       "      <td>1</td>\n",
       "    </tr>\n",
       "    <tr>\n",
       "      <th>2</th>\n",
       "      <td>31112</td>\n",
       "      <td>Male</td>\n",
       "      <td>80.0</td>\n",
       "      <td>0</td>\n",
       "      <td>1</td>\n",
       "      <td>Yes</td>\n",
       "      <td>Private</td>\n",
       "      <td>Rural</td>\n",
       "      <td>105.92</td>\n",
       "      <td>32.5</td>\n",
       "      <td>never smoked</td>\n",
       "      <td>1</td>\n",
       "    </tr>\n",
       "    <tr>\n",
       "      <th>3</th>\n",
       "      <td>60182</td>\n",
       "      <td>Female</td>\n",
       "      <td>49.0</td>\n",
       "      <td>0</td>\n",
       "      <td>0</td>\n",
       "      <td>Yes</td>\n",
       "      <td>Private</td>\n",
       "      <td>Urban</td>\n",
       "      <td>171.23</td>\n",
       "      <td>34.4</td>\n",
       "      <td>smokes</td>\n",
       "      <td>1</td>\n",
       "    </tr>\n",
       "    <tr>\n",
       "      <th>4</th>\n",
       "      <td>1665</td>\n",
       "      <td>Female</td>\n",
       "      <td>79.0</td>\n",
       "      <td>1</td>\n",
       "      <td>0</td>\n",
       "      <td>Yes</td>\n",
       "      <td>Self-employed</td>\n",
       "      <td>Rural</td>\n",
       "      <td>174.12</td>\n",
       "      <td>24.0</td>\n",
       "      <td>never smoked</td>\n",
       "      <td>1</td>\n",
       "    </tr>\n",
       "  </tbody>\n",
       "</table>\n",
       "</div>"
      ],
      "text/plain": [
       "      id  gender   age  hypertension  heart_disease ever_married  \\\n",
       "0   9046    Male  67.0             0              1          Yes   \n",
       "1  51676  Female  61.0             0              0          Yes   \n",
       "2  31112    Male  80.0             0              1          Yes   \n",
       "3  60182  Female  49.0             0              0          Yes   \n",
       "4   1665  Female  79.0             1              0          Yes   \n",
       "\n",
       "       work_type Residence_type  avg_glucose_level   bmi   smoking_status  \\\n",
       "0        Private          Urban             228.69  36.6  formerly smoked   \n",
       "1  Self-employed          Rural             202.21   NaN     never smoked   \n",
       "2        Private          Rural             105.92  32.5     never smoked   \n",
       "3        Private          Urban             171.23  34.4           smokes   \n",
       "4  Self-employed          Rural             174.12  24.0     never smoked   \n",
       "\n",
       "   stroke  \n",
       "0       1  \n",
       "1       1  \n",
       "2       1  \n",
       "3       1  \n",
       "4       1  "
      ]
     },
     "execution_count": 3,
     "metadata": {},
     "output_type": "execute_result"
    }
   ],
   "source": [
    "raw.head()"
   ]
  },
  {
   "cell_type": "code",
   "execution_count": 4,
   "id": "a5c2489c",
   "metadata": {
    "scrolled": true
   },
   "outputs": [
    {
     "name": "stdout",
     "output_type": "stream",
     "text": [
      "<class 'pandas.core.frame.DataFrame'>\n",
      "RangeIndex: 5110 entries, 0 to 5109\n",
      "Data columns (total 12 columns):\n",
      " #   Column             Non-Null Count  Dtype  \n",
      "---  ------             --------------  -----  \n",
      " 0   id                 5110 non-null   int64  \n",
      " 1   gender             5110 non-null   object \n",
      " 2   age                5110 non-null   float64\n",
      " 3   hypertension       5110 non-null   int64  \n",
      " 4   heart_disease      5110 non-null   int64  \n",
      " 5   ever_married       5110 non-null   object \n",
      " 6   work_type          5110 non-null   object \n",
      " 7   Residence_type     5110 non-null   object \n",
      " 8   avg_glucose_level  5110 non-null   float64\n",
      " 9   bmi                4909 non-null   float64\n",
      " 10  smoking_status     5110 non-null   object \n",
      " 11  stroke             5110 non-null   int64  \n",
      "dtypes: float64(3), int64(4), object(5)\n",
      "memory usage: 479.2+ KB\n"
     ]
    }
   ],
   "source": [
    "raw.info()"
   ]
  },
  {
   "cell_type": "code",
   "execution_count": 5,
   "id": "60085793",
   "metadata": {},
   "outputs": [
    {
     "data": {
      "text/html": [
       "<div>\n",
       "<style scoped>\n",
       "    .dataframe tbody tr th:only-of-type {\n",
       "        vertical-align: middle;\n",
       "    }\n",
       "\n",
       "    .dataframe tbody tr th {\n",
       "        vertical-align: top;\n",
       "    }\n",
       "\n",
       "    .dataframe thead th {\n",
       "        text-align: right;\n",
       "    }\n",
       "</style>\n",
       "<table border=\"1\" class=\"dataframe\">\n",
       "  <thead>\n",
       "    <tr style=\"text-align: right;\">\n",
       "      <th></th>\n",
       "      <th>id</th>\n",
       "      <th>age</th>\n",
       "      <th>hypertension</th>\n",
       "      <th>heart_disease</th>\n",
       "      <th>avg_glucose_level</th>\n",
       "      <th>bmi</th>\n",
       "      <th>stroke</th>\n",
       "    </tr>\n",
       "  </thead>\n",
       "  <tbody>\n",
       "    <tr>\n",
       "      <th>count</th>\n",
       "      <td>5110.000000</td>\n",
       "      <td>5110.000000</td>\n",
       "      <td>5110.000000</td>\n",
       "      <td>5110.000000</td>\n",
       "      <td>5110.000000</td>\n",
       "      <td>4909.000000</td>\n",
       "      <td>5110.000000</td>\n",
       "    </tr>\n",
       "    <tr>\n",
       "      <th>mean</th>\n",
       "      <td>36517.829354</td>\n",
       "      <td>43.226614</td>\n",
       "      <td>0.097456</td>\n",
       "      <td>0.054012</td>\n",
       "      <td>106.147677</td>\n",
       "      <td>28.893237</td>\n",
       "      <td>0.048728</td>\n",
       "    </tr>\n",
       "    <tr>\n",
       "      <th>std</th>\n",
       "      <td>21161.721625</td>\n",
       "      <td>22.612647</td>\n",
       "      <td>0.296607</td>\n",
       "      <td>0.226063</td>\n",
       "      <td>45.283560</td>\n",
       "      <td>7.854067</td>\n",
       "      <td>0.215320</td>\n",
       "    </tr>\n",
       "    <tr>\n",
       "      <th>min</th>\n",
       "      <td>67.000000</td>\n",
       "      <td>0.080000</td>\n",
       "      <td>0.000000</td>\n",
       "      <td>0.000000</td>\n",
       "      <td>55.120000</td>\n",
       "      <td>10.300000</td>\n",
       "      <td>0.000000</td>\n",
       "    </tr>\n",
       "    <tr>\n",
       "      <th>25%</th>\n",
       "      <td>17741.250000</td>\n",
       "      <td>25.000000</td>\n",
       "      <td>0.000000</td>\n",
       "      <td>0.000000</td>\n",
       "      <td>77.245000</td>\n",
       "      <td>23.500000</td>\n",
       "      <td>0.000000</td>\n",
       "    </tr>\n",
       "    <tr>\n",
       "      <th>50%</th>\n",
       "      <td>36932.000000</td>\n",
       "      <td>45.000000</td>\n",
       "      <td>0.000000</td>\n",
       "      <td>0.000000</td>\n",
       "      <td>91.885000</td>\n",
       "      <td>28.100000</td>\n",
       "      <td>0.000000</td>\n",
       "    </tr>\n",
       "    <tr>\n",
       "      <th>75%</th>\n",
       "      <td>54682.000000</td>\n",
       "      <td>61.000000</td>\n",
       "      <td>0.000000</td>\n",
       "      <td>0.000000</td>\n",
       "      <td>114.090000</td>\n",
       "      <td>33.100000</td>\n",
       "      <td>0.000000</td>\n",
       "    </tr>\n",
       "    <tr>\n",
       "      <th>max</th>\n",
       "      <td>72940.000000</td>\n",
       "      <td>82.000000</td>\n",
       "      <td>1.000000</td>\n",
       "      <td>1.000000</td>\n",
       "      <td>271.740000</td>\n",
       "      <td>97.600000</td>\n",
       "      <td>1.000000</td>\n",
       "    </tr>\n",
       "  </tbody>\n",
       "</table>\n",
       "</div>"
      ],
      "text/plain": [
       "                 id          age  hypertension  heart_disease  \\\n",
       "count   5110.000000  5110.000000   5110.000000    5110.000000   \n",
       "mean   36517.829354    43.226614      0.097456       0.054012   \n",
       "std    21161.721625    22.612647      0.296607       0.226063   \n",
       "min       67.000000     0.080000      0.000000       0.000000   \n",
       "25%    17741.250000    25.000000      0.000000       0.000000   \n",
       "50%    36932.000000    45.000000      0.000000       0.000000   \n",
       "75%    54682.000000    61.000000      0.000000       0.000000   \n",
       "max    72940.000000    82.000000      1.000000       1.000000   \n",
       "\n",
       "       avg_glucose_level          bmi       stroke  \n",
       "count        5110.000000  4909.000000  5110.000000  \n",
       "mean          106.147677    28.893237     0.048728  \n",
       "std            45.283560     7.854067     0.215320  \n",
       "min            55.120000    10.300000     0.000000  \n",
       "25%            77.245000    23.500000     0.000000  \n",
       "50%            91.885000    28.100000     0.000000  \n",
       "75%           114.090000    33.100000     0.000000  \n",
       "max           271.740000    97.600000     1.000000  "
      ]
     },
     "execution_count": 5,
     "metadata": {},
     "output_type": "execute_result"
    }
   ],
   "source": [
    "raw.describe()"
   ]
  },
  {
   "cell_type": "markdown",
   "id": "3338734a",
   "metadata": {},
   "source": [
    "## Data Cleaning\n",
    "### Drop columns without relevant info"
   ]
  },
  {
   "cell_type": "code",
   "execution_count": 6,
   "id": "c59bd715",
   "metadata": {},
   "outputs": [
    {
     "name": "stdout",
     "output_type": "stream",
     "text": [
      "<class 'pandas.core.frame.DataFrame'>\n",
      "RangeIndex: 5110 entries, 0 to 5109\n",
      "Data columns (total 11 columns):\n",
      " #   Column             Non-Null Count  Dtype  \n",
      "---  ------             --------------  -----  \n",
      " 0   gender             5110 non-null   object \n",
      " 1   age                5110 non-null   float64\n",
      " 2   hypertension       5110 non-null   int64  \n",
      " 3   heart_disease      5110 non-null   int64  \n",
      " 4   ever_married       5110 non-null   object \n",
      " 5   work_type          5110 non-null   object \n",
      " 6   Residence_type     5110 non-null   object \n",
      " 7   avg_glucose_level  5110 non-null   float64\n",
      " 8   bmi                4909 non-null   float64\n",
      " 9   smoking_status     5110 non-null   object \n",
      " 10  stroke             5110 non-null   int64  \n",
      "dtypes: float64(3), int64(3), object(5)\n",
      "memory usage: 439.3+ KB\n"
     ]
    }
   ],
   "source": [
    "raw.drop(columns='id',inplace=True)\n",
    "raw.info()"
   ]
  },
  {
   "cell_type": "markdown",
   "id": "7be2d6a9",
   "metadata": {},
   "source": [
    "### Imputate NA values"
   ]
  },
  {
   "cell_type": "code",
   "execution_count": 7,
   "id": "37821e35",
   "metadata": {},
   "outputs": [
    {
     "name": "stdout",
     "output_type": "stream",
     "text": [
      "<class 'pandas.core.frame.DataFrame'>\n",
      "RangeIndex: 5110 entries, 0 to 5109\n",
      "Data columns (total 11 columns):\n",
      " #   Column             Non-Null Count  Dtype  \n",
      "---  ------             --------------  -----  \n",
      " 0   gender             5110 non-null   object \n",
      " 1   age                5110 non-null   float64\n",
      " 2   hypertension       5110 non-null   int64  \n",
      " 3   heart_disease      5110 non-null   int64  \n",
      " 4   ever_married       5110 non-null   object \n",
      " 5   work_type          5110 non-null   object \n",
      " 6   Residence_type     5110 non-null   object \n",
      " 7   avg_glucose_level  5110 non-null   float64\n",
      " 8   bmi                5110 non-null   float64\n",
      " 9   smoking_status     5110 non-null   object \n",
      " 10  stroke             5110 non-null   int64  \n",
      "dtypes: float64(3), int64(3), object(5)\n",
      "memory usage: 439.3+ KB\n"
     ]
    }
   ],
   "source": [
    "raw.fillna(value=raw.bmi.mean(),inplace=True)\n",
    "raw.info()"
   ]
  },
  {
   "cell_type": "markdown",
   "id": "2ae2cc92",
   "metadata": {},
   "source": [
    "## Data Exploration"
   ]
  },
  {
   "cell_type": "markdown",
   "id": "d0f23f32",
   "metadata": {},
   "source": [
    "### Correlation heatmap\n",
    "From the heatmap we can see that only age has significant correlation to stroke, compared to others. Even so the correlation is 0.245, meaning as one ages the risk of stroke increases."
   ]
  },
  {
   "cell_type": "code",
   "execution_count": 8,
   "id": "843f8599",
   "metadata": {},
   "outputs": [
    {
     "data": {
      "text/plain": [
       "<AxesSubplot:>"
      ]
     },
     "execution_count": 8,
     "metadata": {},
     "output_type": "execute_result"
    },
    {
     "data": {
      "image/png": "[encoded data removed]",
      "text/plain": [
       "<Figure size 432x288 with 2 Axes>"
      ]
     },
     "metadata": {
      "needs_background": "light"
     },
     "output_type": "display_data"
    }
   ],
   "source": [
    "sns.heatmap(raw.corr(), annot=True, fmt='.3f', mask=np.triu(raw.corr()), cmap='Blues')"
   ]
  },
  {
   "cell_type": "markdown",
   "id": "cdc862e1",
   "metadata": {},
   "source": [
    "### Target label distribution\n",
    "From the graphic below, we can see that there is an imbalance in number between class. We might need to downsample the majority (stroke=0) to similar size with the minority (stroke=1)."
   ]
  },
  {
   "cell_type": "code",
   "execution_count": 9,
   "id": "d9d7ff72",
   "metadata": {},
   "outputs": [
    {
     "data": {
      "image/png": "[encoded data removed]",
      "text/plain": [
       "<Figure size 576x576 with 1 Axes>"
      ]
     },
     "metadata": {
      "needs_background": "light"
     },
     "output_type": "display_data"
    }
   ],
   "source": [
    "plt.figure(figsize=(8,8))\n",
    "splot = sns.countplot(data=raw, x='stroke')\n",
    "for p in splot.patches:\n",
    "    splot.annotate(\n",
    "        format(p.get_height(),'.0f'),\n",
    "        (p.get_x() + p.get_width() / 2., p.get_height()),\n",
    "        ha = 'center', va = 'center', xytext = (0, 10),\n",
    "        textcoords = 'offset points')"
   ]
  },
  {
   "cell_type": "markdown",
   "id": "34b44e30",
   "metadata": {},
   "source": [
    "### Stroke in age distribution\n",
    "As seen below, older patients have higher occurences of stroke."
   ]
  },
  {
   "cell_type": "code",
   "execution_count": 10,
   "id": "033cb50d",
   "metadata": {},
   "outputs": [
    {
     "data": {
      "text/plain": [
       "<AxesSubplot:xlabel='age', ylabel='Count'>"
      ]
     },
     "execution_count": 10,
     "metadata": {},
     "output_type": "execute_result"
    },
    {
     "data": {
      "image/png": "[encoded data removed]",
      "text/plain": [
       "<Figure size 576x360 with 1 Axes>"
      ]
     },
     "metadata": {
      "needs_background": "light"
     },
     "output_type": "display_data"
    }
   ],
   "source": [
    "plt.figure(figsize=(8,5))\n",
    "sns.histplot(data=raw, x='age', hue='stroke')"
   ]
  },
  {
   "cell_type": "markdown",
   "id": "56e78162",
   "metadata": {},
   "source": [
    "### Label distribution with comorbidities and age\n",
    "From the figure below, we can see that there are more occurence of stroke in patient with hypertension compared to patients with heart disease or suffers from both."
   ]
  },
  {
   "cell_type": "code",
   "execution_count": 11,
   "id": "150abaa8",
   "metadata": {},
   "outputs": [
    {
     "data": {
      "text/plain": [
       "<Figure size 432x288 with 0 Axes>"
      ]
     },
     "metadata": {},
     "output_type": "display_data"
    },
    {
     "data": {
      "image/png": "[encoded data removed]",
      "text/plain": [
       "<Figure size 432x432 with 4 Axes>"
      ]
     },
     "metadata": {
      "needs_background": "light"
     },
     "output_type": "display_data"
    }
   ],
   "source": [
    "plt.figure()\n",
    "g = sns.FacetGrid(data=raw, row='heart_disease', col='hypertension', hue='stroke')\n",
    "g.map(sns.histplot, 'age', bins=10)\n",
    "plt.yscale('log')\n",
    "plt.show()"
   ]
  },
  {
   "cell_type": "markdown",
   "id": "c12343d6",
   "metadata": {},
   "source": [
    "## Data Preprocessing"
   ]
  },
  {
   "cell_type": "markdown",
   "id": "eba3c381",
   "metadata": {},
   "source": [
    "### Encode object columns"
   ]
  },
  {
   "cell_type": "code",
   "execution_count": 12,
   "id": "018b438e",
   "metadata": {},
   "outputs": [],
   "source": [
    "raw.replace({'Yes':1,'No':0}, inplace=True)\n",
    "raw.gender.replace({'Male':0,'Female':1,'Other':3}, inplace=True)\n",
    "raw.Residence_type.replace({'Rural':0,'Urban':1}, inplace=True)\n",
    "raw.smoking_status.replace({'Unknown':-1,'never smoked':0,'formerly smoked':1,'smokes':2}, inplace=True)\n",
    "raw.work_type.replace({'Never_worked':0,'children':1,'Private':2,'Govt_job':3,'Self-employed':4}, inplace=True)"
   ]
  },
  {
   "cell_type": "markdown",
   "id": "79ea44ce",
   "metadata": {},
   "source": [
    "### Resample data for training"
   ]
  },
  {
   "cell_type": "code",
   "execution_count": 13,
   "id": "c588f75b",
   "metadata": {},
   "outputs": [
    {
     "data": {
      "text/plain": [
       "0    375\n",
       "1    249\n",
       "Name: stroke, dtype: int64"
      ]
     },
     "execution_count": 13,
     "metadata": {},
     "output_type": "execute_result"
    }
   ],
   "source": [
    "t0 = raw[raw['stroke']==0]\n",
    "t1 = raw[raw['stroke']==1]\n",
    "\n",
    "r0 = utils.resample(t0, replace=False, n_samples=375, random_state=52)\n",
    "\n",
    "tr = pd.concat([r0,t1], axis=0)\n",
    "tr.stroke.value_counts()"
   ]
  },
  {
   "cell_type": "markdown",
   "id": "198d36b9",
   "metadata": {},
   "source": [
    "### Split into train-test"
   ]
  },
  {
   "cell_type": "code",
   "execution_count": 14,
   "id": "db507ca4",
   "metadata": {},
   "outputs": [
    {
     "data": {
      "text/plain": [
       "(624, 10)"
      ]
     },
     "metadata": {},
     "output_type": "display_data"
    },
    {
     "data": {
      "text/plain": [
       "(5110, 10)"
      ]
     },
     "metadata": {},
     "output_type": "display_data"
    }
   ],
   "source": [
    "xt = tr.drop(columns='stroke')\n",
    "yt = tr.stroke\n",
    "xg = raw.drop(columns='stroke')\n",
    "yg = raw.stroke\n",
    "display(xt.shape, xg.shape)"
   ]
  },
  {
   "cell_type": "markdown",
   "id": "019b3e03",
   "metadata": {},
   "source": [
    "### Feature selection\n",
    "ANOVA for numerical features, mutual info for categorical features"
   ]
  },
  {
   "cell_type": "code",
   "execution_count": 15,
   "id": "0d77f2d0",
   "metadata": {},
   "outputs": [
    {
     "data": {
      "text/html": [
       "<div>\n",
       "<style scoped>\n",
       "    .dataframe tbody tr th:only-of-type {\n",
       "        vertical-align: middle;\n",
       "    }\n",
       "\n",
       "    .dataframe tbody tr th {\n",
       "        vertical-align: top;\n",
       "    }\n",
       "\n",
       "    .dataframe thead th {\n",
       "        text-align: right;\n",
       "    }\n",
       "</style>\n",
       "<table border=\"1\" class=\"dataframe\">\n",
       "  <thead>\n",
       "    <tr style=\"text-align: right;\">\n",
       "      <th></th>\n",
       "      <th>F Score</th>\n",
       "    </tr>\n",
       "  </thead>\n",
       "  <tbody>\n",
       "    <tr>\n",
       "      <th>age</th>\n",
       "      <td>222.818290</td>\n",
       "    </tr>\n",
       "    <tr>\n",
       "      <th>avg_glucose_level</th>\n",
       "      <td>45.894249</td>\n",
       "    </tr>\n",
       "    <tr>\n",
       "      <th>bmi</th>\n",
       "      <td>5.522123</td>\n",
       "    </tr>\n",
       "  </tbody>\n",
       "</table>\n",
       "</div>"
      ],
      "text/plain": [
       "                      F Score\n",
       "age                222.818290\n",
       "avg_glucose_level   45.894249\n",
       "bmi                  5.522123"
      ]
     },
     "execution_count": 15,
     "metadata": {},
     "output_type": "execute_result"
    }
   ],
   "source": [
    "feat=['age','avg_glucose_level','bmi']\n",
    "pd.DataFrame(feature_selection.f_classif(xt[feat], yt)[0], index=feat, columns=['F Score'])"
   ]
  },
  {
   "cell_type": "code",
   "execution_count": 16,
   "id": "0ccb07b9",
   "metadata": {},
   "outputs": [
    {
     "data": {
      "text/html": [
       "<div>\n",
       "<style scoped>\n",
       "    .dataframe tbody tr th:only-of-type {\n",
       "        vertical-align: middle;\n",
       "    }\n",
       "\n",
       "    .dataframe tbody tr th {\n",
       "        vertical-align: top;\n",
       "    }\n",
       "\n",
       "    .dataframe thead th {\n",
       "        text-align: right;\n",
       "    }\n",
       "</style>\n",
       "<table border=\"1\" class=\"dataframe\">\n",
       "  <thead>\n",
       "    <tr style=\"text-align: right;\">\n",
       "      <th></th>\n",
       "      <th>MI Score</th>\n",
       "    </tr>\n",
       "  </thead>\n",
       "  <tbody>\n",
       "    <tr>\n",
       "      <th>gender</th>\n",
       "      <td>0.016265</td>\n",
       "    </tr>\n",
       "    <tr>\n",
       "      <th>hypertension</th>\n",
       "      <td>0.004504</td>\n",
       "    </tr>\n",
       "    <tr>\n",
       "      <th>heart_disease</th>\n",
       "      <td>0.036764</td>\n",
       "    </tr>\n",
       "    <tr>\n",
       "      <th>ever_married</th>\n",
       "      <td>0.003417</td>\n",
       "    </tr>\n",
       "    <tr>\n",
       "      <th>work_type</th>\n",
       "      <td>0.051533</td>\n",
       "    </tr>\n",
       "    <tr>\n",
       "      <th>Residence_type</th>\n",
       "      <td>0.000000</td>\n",
       "    </tr>\n",
       "    <tr>\n",
       "      <th>smoking_status</th>\n",
       "      <td>0.000000</td>\n",
       "    </tr>\n",
       "  </tbody>\n",
       "</table>\n",
       "</div>"
      ],
      "text/plain": [
       "                MI Score\n",
       "gender          0.016265\n",
       "hypertension    0.004504\n",
       "heart_disease   0.036764\n",
       "ever_married    0.003417\n",
       "work_type       0.051533\n",
       "Residence_type  0.000000\n",
       "smoking_status  0.000000"
      ]
     },
     "execution_count": 16,
     "metadata": {},
     "output_type": "execute_result"
    }
   ],
   "source": [
    "feat=['gender','hypertension','heart_disease','ever_married','work_type','Residence_type','smoking_status']\n",
    "pd.DataFrame(feature_selection.mutual_info_classif(xt[feat],yt, random_state=52), index=feat, columns=['MI Score'])"
   ]
  },
  {
   "cell_type": "markdown",
   "id": "56a359fa",
   "metadata": {},
   "source": [
    "We drop columns with MI Score lower than 0.05"
   ]
  },
  {
   "cell_type": "code",
   "execution_count": 17,
   "id": "aae5cb1d",
   "metadata": {},
   "outputs": [],
   "source": [
    "xtf = xt.drop(columns=['gender','hypertension','heart_disease','ever_married','Residence_type','smoking_status'], axis=1)\n",
    "xgf = xg.drop(columns=['gender','hypertension','heart_disease','ever_married','Residence_type','smoking_status'], axis=1)"
   ]
  },
  {
   "cell_type": "markdown",
   "id": "4a196d9e",
   "metadata": {},
   "source": [
    "### Scale the data"
   ]
  },
  {
   "cell_type": "code",
   "execution_count": 18,
   "id": "e9d8f43e",
   "metadata": {},
   "outputs": [],
   "source": [
    "scaler = preprocessing.StandardScaler()\n",
    "xtt = scaler.fit_transform(xtf)\n",
    "xgt = scaler.transform(xgf)"
   ]
  },
  {
   "cell_type": "markdown",
   "id": "aaa48d45",
   "metadata": {},
   "source": [
    "## Model Definition"
   ]
  },
  {
   "cell_type": "markdown",
   "id": "06bedbf1",
   "metadata": {},
   "source": [
    "### Hyperparameter tuning"
   ]
  },
  {
   "cell_type": "code",
   "execution_count": 19,
   "id": "fe13e874",
   "metadata": {},
   "outputs": [
    {
     "name": "stdout",
     "output_type": "stream",
     "text": [
      "# Tuning hyper-parameters for recall\n",
      "\n",
      "Fitting 5 folds for each of 10 candidates, totalling 50 fits\n",
      "Best parameters set found on development set:\n",
      "\n",
      "{'C': 0.1, 'max_iter': 10000}\n",
      "\n",
      "Grid scores on development set:\n",
      "\n",
      "0.50000 (+/-0.000) for {'C': 0.01, 'max_iter': 10000}\n",
      "0.50000 (+/-0.000) for {'C': 0.01, 'max_iter': 100000}\n",
      "0.73480 (+/-0.049) for {'C': 0.1, 'max_iter': 10000}\n",
      "0.73480 (+/-0.049) for {'C': 0.1, 'max_iter': 100000}\n",
      "0.73347 (+/-0.037) for {'C': 1, 'max_iter': 10000}\n",
      "0.73347 (+/-0.037) for {'C': 1, 'max_iter': 100000}\n",
      "0.72676 (+/-0.035) for {'C': 10, 'max_iter': 10000}\n",
      "0.72676 (+/-0.035) for {'C': 10, 'max_iter': 100000}\n",
      "0.72680 (+/-0.078) for {'C': 100, 'max_iter': 10000}\n",
      "0.72680 (+/-0.078) for {'C': 100, 'max_iter': 100000}\n",
      "\n",
      "# Tuning hyper-parameters for precision\n",
      "\n",
      "Fitting 5 folds for each of 10 candidates, totalling 50 fits\n",
      "Best parameters set found on development set:\n",
      "\n",
      "{'C': 0.1, 'max_iter': 10000}\n",
      "\n",
      "Grid scores on development set:\n",
      "\n",
      "0.30048 (+/-0.002) for {'C': 0.01, 'max_iter': 10000}\n",
      "0.30048 (+/-0.002) for {'C': 0.01, 'max_iter': 100000}\n",
      "0.73431 (+/-0.049) for {'C': 0.1, 'max_iter': 10000}\n",
      "0.73431 (+/-0.049) for {'C': 0.1, 'max_iter': 100000}\n",
      "0.73047 (+/-0.039) for {'C': 1, 'max_iter': 10000}\n",
      "0.73047 (+/-0.039) for {'C': 1, 'max_iter': 100000}\n",
      "0.72709 (+/-0.041) for {'C': 10, 'max_iter': 10000}\n",
      "0.72709 (+/-0.041) for {'C': 10, 'max_iter': 100000}\n",
      "0.72724 (+/-0.078) for {'C': 100, 'max_iter': 10000}\n",
      "0.72724 (+/-0.078) for {'C': 100, 'max_iter': 100000}\n",
      "\n",
      "Wall time: 1.98 s\n"
     ]
    }
   ],
   "source": [
    "%%time\n",
    "tuned_parameters = [{\n",
    "    'C':[0.01,0.1,1,10,100],\n",
    "    'max_iter':[10000,100000]\n",
    "}]\n",
    "\n",
    "scores = ['recall','precision']\n",
    "\n",
    "for score in scores:\n",
    "    print(\"# Tuning hyper-parameters for %s\" % score)\n",
    "    print()\n",
    "\n",
    "    clf = model_selection.GridSearchCV(\n",
    "        svm.SVC(random_state=52),\n",
    "        tuned_parameters, scoring='%s_macro' % score,\n",
    "        n_jobs=6, verbose=18\n",
    "    )\n",
    "    clf.fit(xtt, yt)\n",
    "\n",
    "    print(\"Best parameters set found on development set:\")\n",
    "    print()\n",
    "    print(clf.best_params_)\n",
    "    print()\n",
    "    print(\"Grid scores on development set:\")\n",
    "    print()\n",
    "    means = clf.cv_results_['mean_test_score']\n",
    "    stds = clf.cv_results_['std_test_score']\n",
    "    for mean, std, params in zip(means, stds, clf.cv_results_['params']):\n",
    "        print(\"%0.5f (+/-%0.03f) for %r\"\n",
    "              % (mean, std * 2, params))\n",
    "    print()"
   ]
  },
  {
   "cell_type": "markdown",
   "id": "af550aed",
   "metadata": {},
   "source": [
    "### Model definition"
   ]
  },
  {
   "cell_type": "code",
   "execution_count": 20,
   "id": "f9340949",
   "metadata": {},
   "outputs": [],
   "source": [
    "model = svm.LinearSVC(C=0.1, max_iter=100000, random_state=52)"
   ]
  },
  {
   "cell_type": "markdown",
   "id": "61a445a5",
   "metadata": {},
   "source": [
    "## Model Training"
   ]
  },
  {
   "cell_type": "code",
   "execution_count": 21,
   "id": "5e0a8590",
   "metadata": {},
   "outputs": [
    {
     "data": {
      "text/plain": [
       "LinearSVC(C=0.1, max_iter=100000, random_state=52)"
      ]
     },
     "execution_count": 21,
     "metadata": {},
     "output_type": "execute_result"
    }
   ],
   "source": [
    "model.fit(xtt, yt)"
   ]
  },
  {
   "cell_type": "markdown",
   "id": "2ee48b0d",
   "metadata": {},
   "source": [
    "## Model evaluation"
   ]
  },
  {
   "cell_type": "code",
   "execution_count": 22,
   "id": "e8857afd",
   "metadata": {},
   "outputs": [
    {
     "data": {
      "text/plain": [
       "0.7458916906109312"
      ]
     },
     "metadata": {},
     "output_type": "display_data"
    },
    {
     "data": {
      "text/plain": [
       "0.7468027210884353"
      ]
     },
     "metadata": {},
     "output_type": "display_data"
    }
   ],
   "source": [
    "cv = model_selection.cross_validate(model, xtt, yt, scoring=['precision_macro','recall_macro'])\n",
    "display(\n",
    "    cv['test_precision_macro'].mean(),\n",
    "    cv['test_recall_macro'].mean()\n",
    ")"
   ]
  },
  {
   "cell_type": "markdown",
   "id": "628bb5e6",
   "metadata": {},
   "source": [
    "## Model Inference"
   ]
  },
  {
   "cell_type": "code",
   "execution_count": 23,
   "id": "21c8eb36",
   "metadata": {},
   "outputs": [
    {
     "data": {
      "text/plain": [
       "array([[3900,  961],\n",
       "       [  71,  178]], dtype=int64)"
      ]
     },
     "execution_count": 23,
     "metadata": {},
     "output_type": "execute_result"
    }
   ],
   "source": [
    "metrics.confusion_matrix(yg, model.predict(xgt))"
   ]
  },
  {
   "cell_type": "code",
   "execution_count": 24,
   "id": "72b07c47",
   "metadata": {},
   "outputs": [
    {
     "name": "stdout",
     "output_type": "stream",
     "text": [
      "              precision    recall  f1-score   support\n",
      "\n",
      "           0      0.982     0.802     0.883      4861\n",
      "           1      0.156     0.715     0.256       249\n",
      "\n",
      "    accuracy                          0.798      5110\n",
      "   macro avg      0.569     0.759     0.570      5110\n",
      "weighted avg      0.942     0.798     0.853      5110\n",
      "\n"
     ]
    }
   ],
   "source": [
    "print(metrics.classification_report(yg, model.predict(xgt), digits=3))"
   ]
  },
  {
   "cell_type": "markdown",
   "id": "095f89c1",
   "metadata": {},
   "source": [
    "## Conclusion\n",
    "We have done cleaning and preprocessing to our data:\n",
    " - Drop columns without relevant info and imputate nan values\n",
    " - Encode object columns, resample target label, split data to train-test set, feature selection\n",
    " \n",
    "In model evaluation, we use cross validation with our training data resulting in a mean precision of 0.745 and a mean recall of 0.746. Using test data we predict the outcome resulting in a macro precision of 0.569 and a macro recall of 0.759.\n",
    "\n",
    "The recall score difference between the training and test data is not big, but the precision suffers in stroke=1. This means that our model couldn't reliably predict if the patient has stroke since there are too many false positive. We can see why in the confusion matrix: there are 961 non-stroke patients classified as having stroke compared to 178 patients classified correctly."
   ]
  }
 ],
 "metadata": {
  "kernelspec": {
   "display_name": "Python 3",
   "language": "python",
   "name": "python3"
  },
  "language_info": {
   "codemirror_mode": {
    "name": "ipython",
    "version": 3
   },
   "file_extension": ".py",
   "mimetype": "text/x-python",
   "name": "python",
   "nbconvert_exporter": "python",
   "pygments_lexer": "ipython3",
   "version": "3.8.5"
  }
 },
 "nbformat": 4,
 "nbformat_minor": 5
}
